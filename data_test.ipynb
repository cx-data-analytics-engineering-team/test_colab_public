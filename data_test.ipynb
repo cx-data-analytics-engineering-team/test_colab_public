{
  "nbformat": 4,
  "nbformat_minor": 0,
  "metadata": {
    "colab": {
      "provenance": [],
      "authorship_tag": "ABX9TyNrF8881+bzSukCqh6r5W/j",
      "include_colab_link": true
    },
    "kernelspec": {
      "name": "python3",
      "display_name": "Python 3"
    },
    "language_info": {
      "name": "python"
    }
  },
  "cells": [
    {
      "cell_type": "markdown",
      "metadata": {
        "id": "view-in-github",
        "colab_type": "text"
      },
      "source": [
        "<a href=\"https://colab.research.google.com/github/cx-data-analytics-engineering-team/test_colab_public/blob/long_dev/data_test.ipynb\" target=\"_parent\"><img src=\"https://colab.research.google.com/assets/colab-badge.svg\" alt=\"Open In Colab\"/></a>"
      ]
    },
    {
      "cell_type": "code",
      "source": [
        "# import google drive\n",
        "from google.colab import drive\n",
        "drive.mount('/content/drive')"
      ],
      "metadata": {
        "colab": {
          "base_uri": "https://localhost:8080/"
        },
        "id": "P_O7NV6MnXwx",
        "outputId": "46062a1e-4aca-4a74-89aa-66441fa5bc9d"
      },
      "execution_count": null,
      "outputs": [
        {
          "output_type": "stream",
          "name": "stdout",
          "text": [
            "Mounted at /content/drive\n"
          ]
        }
      ]
    },
    {
      "cell_type": "code",
      "execution_count": 8,
      "metadata": {
        "colab": {
          "base_uri": "https://localhost:8080/"
        },
        "id": "kSZmHAKilePg",
        "outputId": "f0ba8cf7-3148-4d07-8b3c-0e7df0737f2d"
      },
      "outputs": [
        {
          "output_type": "stream",
          "name": "stdout",
          "text": [
            "Cloning into 'test_colab_public'...\n",
            "remote: Enumerating objects: 3, done.\u001b[K\n",
            "remote: Counting objects:  33% (1/3)\u001b[K\rremote: Counting objects:  66% (2/3)\u001b[K\rremote: Counting objects: 100% (3/3)\u001b[K\rremote: Counting objects: 100% (3/3), done.\u001b[K\n",
            "remote: Total 3 (delta 0), reused 0 (delta 0), pack-reused 0 (from 0)\u001b[K\n",
            "Receiving objects:  33% (1/3)\rReceiving objects:  66% (2/3)\rReceiving objects: 100% (3/3)\rReceiving objects: 100% (3/3), done.\n"
          ]
        }
      ],
      "source": [
        "!git clone https://github.com/cx-data-analytics-engineering-team/test_colab_public.git"
      ]
    },
    {
      "cell_type": "code",
      "source": [
        "def add(a, b):\n",
        "  return a + b\n"
      ],
      "metadata": {
        "id": "T6Jab9IEuEqz"
      },
      "execution_count": 9,
      "outputs": []
    },
    {
      "cell_type": "code",
      "source": [
        "# prompt: Cloning into 'test_colab'...\n",
        "# fatal: could not read Username for 'https://github.com': No such device or address\n",
        "\n",
        "from google.colab import drive\n",
        "# import google drive\n",
        "drive.mount('/content/drive')\n",
        "!git clone https://github.com/cx-data-analytics-engineering-team/test_colab.git\n",
        "# Use a personal access token instead of username/password\n",
        "# Replace <YOUR_GITHUB_TOKEN> with your actual token\n",
        "# Generate a personal access token from your github account settings\n",
        "#!git clone https://<YOUR_GITHUB_TOKEN>@github.com/cx-data-analytics-engineering-team/test_colab.git\n"
      ],
      "metadata": {
        "id": "GZUHK2W5mRqU"
      },
      "execution_count": null,
      "outputs": []
    },
    {
      "cell_type": "code",
      "source": [
        "def substract(a, b):\n",
        "  return a - b"
      ],
      "metadata": {
        "id": "MmMytVwBu8JN"
      },
      "execution_count": 10,
      "outputs": []
    },
    {
      "cell_type": "code",
      "source": [],
      "metadata": {
        "id": "KDgmZl66u-0T"
      },
      "execution_count": null,
      "outputs": []
    }
  ]
}